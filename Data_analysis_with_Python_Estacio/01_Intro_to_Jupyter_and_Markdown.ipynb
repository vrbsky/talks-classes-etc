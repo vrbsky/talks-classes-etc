{
 "cells": [
  {
   "cell_type": "markdown",
   "metadata": {},
   "source": [
    "# Data Analysis with Python\n",
    "by Ladislav Vrbsky  \n",
    "for Estácio\n",
    "\n",
    "<a href='https://portal.estacio.br/'> <img src='https://portal.estacio.br/imgs/logo-estacio.png' /></a>"
   ]
  },
  {
   "cell_type": "markdown",
   "metadata": {},
   "source": [
    "## How to use Jupyter Notebooks\n",
    "\n",
    "`esc` & `enter` to escape or enter editing mode  \n",
    "Shift-Enter - execute and advance  \n",
    "Ctrl-Enter - just execute  \n",
    "Alt-Enter - execute and insert cell\n",
    "\n",
    "### In command mode\n",
    "P - command pallette\n",
    "A - insert cell above  \n",
    "B - insert cell below  \n",
    "DD - delete cell(s)  \n",
    "C - copy cell(s)  \n",
    "X - cut cell(s)  \n",
    "V - paste cell(s)  \n",
    "Z - Undo  \n",
    "Y - change cell type to code  \n",
    "M - change cell type to markdown  \n",
    "\n",
    "To run command line commands, use the `!`  \n",
    "`!ls -l`\n",
    "\n",
    "Line magic uses `%`, whereas Cell magic uses `%%`  \n",
    "For example, you can time your execution time with `%time` or `%%timeit`\n",
    "\n",
    "Special code formatting and colors   \n",
    "Python:\n",
    "```python\n",
    "print \"Hello World\"\n",
    "```\n",
    "\n",
    "Javascript:  \n",
    "```javascript\n",
    "console.log(\"Hello World\")\n",
    "```"
   ]
  },
  {
   "cell_type": "code",
   "execution_count": null,
   "metadata": {},
   "outputs": [],
   "source": [
    "from IPython.display import IFrame\n",
    "vid = YouTubeVideo(\"4OZip0cgOho\")\n",
    "display(vid)"
   ]
  },
  {
   "cell_type": "code",
   "execution_count": null,
   "metadata": {},
   "outputs": [],
   "source": [
    "%time\n",
    "len([i for i in range(1000000)])"
   ]
  },
  {
   "cell_type": "code",
   "execution_count": null,
   "metadata": {},
   "outputs": [],
   "source": [
    "%%timeit\n",
    "len([i for i in range(1000000)])"
   ]
  },
  {
   "cell_type": "code",
   "execution_count": null,
   "metadata": {},
   "outputs": [],
   "source": [
    "!ls -l"
   ]
  },
  {
   "cell_type": "code",
   "execution_count": null,
   "metadata": {},
   "outputs": [],
   "source": [
    "%%bash\n",
    "ls -l"
   ]
  },
  {
   "cell_type": "markdown",
   "metadata": {},
   "source": [
    "This is a markdown cell. It is used to document your analysis.\n",
    "\n",
    "# H1 Title\n",
    "## H2 Title\n",
    "### H3 Title\n",
    "...\n",
    "\n",
    "Numbered list\n",
    "1. first\n",
    "1. second\n",
    "4. the custom numbers is ignored\n",
    "2. Hello Markdown!\n",
    "\n",
    "Bulleted list\n",
    "- Análise\n",
    "- de\n",
    "  - next level\n",
    "- dados.\n",
    "\n",
    "Draw a line here\n",
    "\n",
    "---------------------\n",
    "\n",
    "Insert Latex math inline uses single $E = mc^2$ and we can also typeset regularly on a new line using. R2 score is defined as follows: $$R^2 = 1 - \\frac{\\mathrm{SSE}}{\\mathrm{SSM}} = 1 - \\frac{n \\times \\mathrm{MSE}}{\\sum_{i}{(y_{i}-\\bar{y})^2}}$$\n",
    "\n",
    "Show some code like this: `from estacio import knowledge`, ok?  \n",
    "Two epsaces at the end of the line means a linebreak.  \n",
    "Here is some **bold stuff**  \n",
    "and some *emphasized text*.\n",
    "\n",
    "New paragraph with one or more lines of separation.\n",
    "\n",
    "HTML friendly (include media, etc.)\n",
    "\n",
    "URL:\n",
    "[my web](https://www.vrbsky.com) vrbsky.com"
   ]
  },
  {
   "cell_type": "code",
   "execution_count": null,
   "metadata": {},
   "outputs": [],
   "source": []
  }
 ],
 "metadata": {
  "kernelspec": {
   "display_name": "Python 3",
   "language": "python",
   "name": "python3"
  },
  "language_info": {
   "codemirror_mode": {
    "name": "ipython",
    "version": 3
   },
   "file_extension": ".py",
   "mimetype": "text/x-python",
   "name": "python",
   "nbconvert_exporter": "python",
   "pygments_lexer": "ipython3",
   "version": "3.7.2"
  }
 },
 "nbformat": 4,
 "nbformat_minor": 2
}

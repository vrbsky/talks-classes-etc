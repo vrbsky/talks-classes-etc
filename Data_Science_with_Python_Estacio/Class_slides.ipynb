{
 "cells": [
  {
   "cell_type": "markdown",
   "metadata": {},
   "source": [
    "# Data Science with Python\n",
    "## Ciência de dados com Python\n"
   ]
  },
  {
   "cell_type": "markdown",
   "metadata": {},
   "source": [
    "## Agenda\n",
    "\n",
    "- Motivação\n",
    "- Ferramentas (colab, vs code ds, databricks community)\n",
    "- DataFrame Intro\n",
    "- Operações básicas\n",
    "- Operações avançadas\n",
    "- Visualização\n",
    "- Machine Learning\n",
    "- Boas práticas\n",
    "- Referências e materiais\n"
   ]
  },
  {
   "cell_type": "markdown",
   "metadata": {},
   "source": [
    "## Motivation\n"
   ]
  },
  {
   "cell_type": "markdown",
   "metadata": {},
   "source": [
    "## Intro to Jupyter, Notebooks, Markdown\n",
    "\n",
    "Open, read & interact with `./01_Intro_to_Jupyter_and_Markdown.ipynb`"
   ]
  },
  {
   "cell_type": "markdown",
   "metadata": {},
   "source": [
    "## Pandas Intro"
   ]
  },
  {
   "cell_type": "markdown",
   "metadata": {},
   "source": [
    "## Referrences\n",
    "[Google Colab](https://colab.research.google.com/notebooks/intro.ipynb)\n",
    "[VS Code - Data Science tools](https://code.visualstudio.com/docs/python/data-science-tutorial)\n",
    "[Databricks Community Edition](https://community.cloud.databricks.com/login.html)"
   ]
  }
 ],
 "metadata": {
  "kernelspec": {
   "display_name": "Python 3",
   "language": "python",
   "name": "python3"
  },
  "language_info": {
   "codemirror_mode": {
    "name": "ipython",
    "version": 3
   },
   "file_extension": ".py",
   "mimetype": "text/x-python",
   "name": "python",
   "nbconvert_exporter": "python",
   "pygments_lexer": "ipython3",
   "version": "3.7.2"
  }
 },
 "nbformat": 4,
 "nbformat_minor": 2
}

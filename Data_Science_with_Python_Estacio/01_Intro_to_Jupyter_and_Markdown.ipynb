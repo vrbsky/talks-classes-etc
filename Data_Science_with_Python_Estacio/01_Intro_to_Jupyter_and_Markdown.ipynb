{
 "cells": [
  {
   "cell_type": "markdown",
   "metadata": {},
   "source": [
    "# Data Science with Python\n",
    "by Ladislav Vrbsky  \n",
    "for Estácio\n",
    "\n",
    "<a href='https://portal.estacio.br/'> <img src='https://portal.estacio.br/imgs/logo-estacio.png' /></a>"
   ]
  },
  {
   "cell_type": "markdown",
   "metadata": {},
   "source": [
    "## How to use Jupyter Notebooks\n",
    "\n",
    "This guide mostly applies to other notebooks. Check out the class references.\n",
    "\n",
    "The boxes here are called *cells*.  \n",
    "Use `esc` & `enter` to escape or enter editing mode  \n",
    "Shift-Enter - execute and advance  \n",
    "Ctrl-Enter - just execute  \n",
    "Alt-Enter - execute and insert cell\n",
    "\n",
    "Use the top menu, especially Cell and Kernel.\n",
    "\n",
    "### In command mode\n",
    "P - command pallette\n",
    "A - insert cell above  \n",
    "B - insert cell below  \n",
    "DD - delete cell(s)  \n",
    "C - copy cell(s)  \n",
    "X - cut cell(s)  \n",
    "V - paste cell(s)  \n",
    "Z - Undo  \n",
    "Y - change cell type to code  \n",
    "M - change cell type to markdown  \n",
    "\n",
    "To run command line commands, use the `!`  \n",
    "`!ls -l`\n",
    "\n",
    "Line magic uses `%`, whereas Cell magic uses `%%`  \n",
    "For example, you can time your execution time with `%time` or `%%timeit`"
   ]
  },
  {
   "cell_type": "code",
   "execution_count": 1,
   "metadata": {},
   "outputs": [
    {
     "data": {
      "text/plain": [
       "13"
      ]
     },
     "execution_count": 1,
     "metadata": {},
     "output_type": "execute_result"
    }
   ],
   "source": [
    "# this is a comment in python\n",
    "# Execute a snippet of code and see the results below:\n",
    "8+5"
   ]
  },
  {
   "cell_type": "code",
   "execution_count": 2,
   "metadata": {},
   "outputs": [
    {
     "name": "stdout",
     "output_type": "stream",
     "text": [
      "3\n",
      "5\n"
     ]
    },
    {
     "data": {
      "text/plain": [
       "6"
      ]
     },
     "execution_count": 2,
     "metadata": {},
     "output_type": "execute_result"
    }
   ],
   "source": [
    "# only the last result is rendered, unless you use print()\n",
    "# also, some Jupyter notebooks do not show results unless printed explicitly\n",
    "1\n",
    "2\n",
    "print(3)\n",
    "4\n",
    "print(5)\n",
    "6"
   ]
  },
  {
   "cell_type": "markdown",
   "metadata": {},
   "source": [
    "Press `Tab` for code autocomplete and `Shift+Tab` to show function definition and documentation."
   ]
  },
  {
   "cell_type": "code",
   "execution_count": 3,
   "metadata": {},
   "outputs": [
    {
     "data": {
      "image/jpeg": "[encoded data removed]",
      "text/html": [
       "\n",
       "        <iframe\n",
       "            width=\"400\"\n",
       "            height=\"300\"\n",
       "            src=\"https://www.youtube.com/embed/4OZip0cgOho\"\n",
       "            frameborder=\"0\"\n",
       "            allowfullscreen\n",
       "        ></iframe>\n",
       "        "
      ],
      "text/plain": [
       "<IPython.lib.display.YouTubeVideo at 0x104c31c50>"
      ]
     },
     "metadata": {},
     "output_type": "display_data"
    }
   ],
   "source": [
    "from IPython.display import YouTubeVideo\n",
    "vid = YouTubeVideo(\"4OZip0cgOho\")\n",
    "display(vid)"
   ]
  },
  {
   "cell_type": "code",
   "execution_count": 4,
   "metadata": {},
   "outputs": [
    {
     "name": "stdout",
     "output_type": "stream",
     "text": [
      "CPU times: user 5 µs, sys: 1e+03 ns, total: 6 µs\n",
      "Wall time: 12.2 µs\n"
     ]
    },
    {
     "data": {
      "text/plain": [
       "1000000"
      ]
     },
     "execution_count": 4,
     "metadata": {},
     "output_type": "execute_result"
    }
   ],
   "source": [
    "%time\n",
    "len([i for i in range(1000000)])"
   ]
  },
  {
   "cell_type": "code",
   "execution_count": 5,
   "metadata": {},
   "outputs": [
    {
     "name": "stdout",
     "output_type": "stream",
     "text": [
      "257 ms ± 90.3 ms per loop (mean ± std. dev. of 7 runs, 10 loops each)\n"
     ]
    }
   ],
   "source": [
    "%%timeit\n",
    "len([i for i in range(1000000)])"
   ]
  },
  {
   "cell_type": "code",
   "execution_count": 6,
   "metadata": {},
   "outputs": [
    {
     "name": "stdout",
     "output_type": "stream",
     "text": [
      "total 1856\r\n",
      "-rw-r--r--  1 vrbsky  staff  280855 Jun 19 02:40 00_Class_slides.html\r\n",
      "-rw-r--r--  1 vrbsky  staff    9578 Jun 19 04:14 00_Class_slides.ipynb\r\n",
      "-rw-r--r--  1 vrbsky  staff  289146 Jun 19 04:15 00_Class_slides.slides.html\r\n",
      "-rw-r--r--  1 vrbsky  staff   37276 Jun 19 04:16 01_Intro_to_Jupyter_and_Markdown.ipynb\r\n",
      "-rw-r--r--  1 vrbsky  staff  214437 Jun 19 04:16 02_Intro_to_Data_Analysis.ipynb\r\n",
      "-rw-r--r--  1 vrbsky  staff  105667 Jun 19 04:14 03_Intro_to_Machine_Learning_with_scikit_learn.ipynb\r\n",
      "drwxr-xr-x  8 vrbsky  staff     256 Jun 19 04:08 \u001b[34mdata\u001b[m\u001b[m\r\n",
      "drwxr-xr-x  4 vrbsky  staff     128 Jun 19 03:54 \u001b[34mimg\u001b[m\u001b[m\r\n"
     ]
    }
   ],
   "source": [
    "!ls -l"
   ]
  },
  {
   "cell_type": "code",
   "execution_count": 7,
   "metadata": {},
   "outputs": [
    {
     "name": "stdout",
     "output_type": "stream",
     "text": [
      "total 1856\n",
      "-rw-r--r--  1 vrbsky  staff  280855 Jun 19 02:40 00_Class_slides.html\n",
      "-rw-r--r--  1 vrbsky  staff    9578 Jun 19 04:14 00_Class_slides.ipynb\n",
      "-rw-r--r--  1 vrbsky  staff  289146 Jun 19 04:15 00_Class_slides.slides.html\n",
      "-rw-r--r--  1 vrbsky  staff   37276 Jun 19 04:16 01_Intro_to_Jupyter_and_Markdown.ipynb\n",
      "-rw-r--r--  1 vrbsky  staff  214437 Jun 19 04:16 02_Intro_to_Data_Analysis.ipynb\n",
      "-rw-r--r--  1 vrbsky  staff  105667 Jun 19 04:14 03_Intro_to_Machine_Learning_with_scikit_learn.ipynb\n",
      "drwxr-xr-x  8 vrbsky  staff     256 Jun 19 04:08 data\n",
      "drwxr-xr-x  4 vrbsky  staff     128 Jun 19 03:54 img\n"
     ]
    }
   ],
   "source": [
    "%%bash\n",
    "ls -l"
   ]
  },
  {
   "cell_type": "markdown",
   "metadata": {},
   "source": [
    "# How to write Markdown (and LaTeX)\n",
    "\n",
    "This is a markdown cell. It is used to document your analysis.\n",
    "\n",
    "# H1 Title\n",
    "## H2 Title\n",
    "### H3 Title\n",
    "...\n",
    "\n",
    "Numbered list\n",
    "1. first\n",
    "1. second\n",
    "4. the custom numbers is ignored\n",
    "2. Hello Markdown!\n",
    "\n",
    "Bulleted list\n",
    "- Análise\n",
    "- de\n",
    "  - next level\n",
    "- dados.\n",
    "\n",
    "Draw a line here\n",
    "\n",
    "---------------------\n",
    "\n",
    "Insert LaTeX math inline uses single $E = mc^2$ and we can also typeset regularly on a new line using. R2 score is defined as follows: $$R^2 = 1 - \\frac{\\mathrm{SSE}}{\\mathrm{SSM}} = 1 - \\frac{n \\times \\mathrm{MSE}}{\\sum_{i}{(y_{i}-\\bar{y})^2}}$$\n",
    "\n",
    "Two epsaces at the end of the line means a linebreak.  \n",
    "Here is some **bold stuff**  \n",
    "and some *emphasized text*.  \n",
    "Show some code like this: `from estacio import knowledge`, ok?  "
   ]
  },
  {
   "cell_type": "markdown",
   "metadata": {},
   "source": [
    "Use three backquotes \\`\\`\\` for special code formatting and colors. Supports multi-line code\n",
    "Python:\n",
    "```python\n",
    "import pandas as pd\n",
    "print(\"Hello World!\")\n",
    "```\n",
    "\n",
    "Javascript: ([source](https://medium.com/better-programming/127-helpful-javascript-snippets-you-can-learn-in-30-seconds-or-less-part-1-of-6-bc2bc890dfe5)) \n",
    "```javascript\n",
    "console.log(\"Hello World!\")\n",
    "const all = (arr, fn = Boolean) => arr.every(fn);\n",
    "all([4, 2, 3], x => x > 1); // true\n",
    "all([1, 2, 3]); // true\n",
    "```\n",
    "\n",
    "New paragraph with one or more lines of separation.\n",
    "\n",
    "HTML friendly - include media, etc. - see image in first cell\n",
    "\n",
    "URL:\n",
    "[vrbsky.com](https://www.vrbsky.com)"
   ]
  },
  {
   "cell_type": "code",
   "execution_count": null,
   "metadata": {},
   "outputs": [],
   "source": []
  }
 ],
 "metadata": {
  "kernelspec": {
   "display_name": "Python 3",
   "language": "python",
   "name": "python3"
  },
  "language_info": {
   "codemirror_mode": {
    "name": "ipython",
    "version": 3
   },
   "file_extension": ".py",
   "mimetype": "text/x-python",
   "name": "python",
   "nbconvert_exporter": "python",
   "pygments_lexer": "ipython3",
   "version": "3.7.2"
  }
 },
 "nbformat": 4,
 "nbformat_minor": 2
}

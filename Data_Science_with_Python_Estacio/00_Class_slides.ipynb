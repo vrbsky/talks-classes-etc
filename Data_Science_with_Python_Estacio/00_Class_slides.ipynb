{
 "cells": [
  {
   "cell_type": "markdown",
   "metadata": {
    "slideshow": {
     "slide_type": "slide"
    }
   },
   "source": [
    "# Data Science with Python\n",
    "## Ciência de Dados com Python\n",
    "by Ladislav Vrbsky  \n",
    "(born in Prague, Czech Republic, works at [Vibe Tecnologia](https://vibetecnologia.com/))  \n",
    "\n",
    "<br>\n",
    "for Estácio\n",
    "\n",
    "<a href='https://portal.estacio.br/'> <img src='https://portal.estacio.br/imgs/logo-estacio.png' /></a>\n",
    "\n",
    "[Open this file in Colab](https://colab.research.google.com/github/vrbsky/talks-classes-etc/blob/master/Data_Science_with_Python_Estacio/00_Class_slides.ipynb)  \n",
    "[Show this file on GitHub](https://github.com/vrbsky/talks-classes-etc/blob/master/Data_Science_with_Python_Estacio/00_Class_slides.ipynb)"
   ]
  },
  {
   "cell_type": "markdown",
   "metadata": {
    "slideshow": {
     "slide_type": "slide"
    }
   },
   "source": [
    "## Agenda\n",
    "\n",
    "- Motivation\n",
    "- IDE\n",
    "- Data Analysis and visualization\n",
    "- Machine Learning with scikit-learn\n",
    "- References & Tips"
   ]
  },
  {
   "cell_type": "markdown",
   "metadata": {
    "slideshow": {
     "slide_type": "slide"
    }
   },
   "source": [
    "## Motivation\n",
    "- Data is one of the most valuable assets of an organization\n",
    "- Getting data driven gets you ahead\n",
    "- Data is already present, you might as well use it"
   ]
  },
  {
   "cell_type": "markdown",
   "metadata": {
    "slideshow": {
     "slide_type": "slide"
    }
   },
   "source": [
    "## IDE - Intro to Jupyter, Notebooks, Markdown\n",
    "\n",
    "Open, read & interact with  \n",
    "`./01_Intro_to_Jupyter_and_Markdown.ipynb`  \n",
    "[Open locally](./01_Intro_to_Jupyter_and_Markdown.ipynb)  \n",
    "[Open in Colab](https://colab.research.google.com/github/vrbsky/talks-classes-etc/blob/master/Data_Science_with_Python_Estacio/01_Intro_to_Jupyter_and_Markdown.ipynb)  \n",
    "[Show on GitHub](https://github.com/vrbsky/talks-classes-etc/blob/master/Data_Science_with_Python_Estacio/01_Intro_to_Jupyter_and_Markdown.ipynb)"
   ]
  },
  {
   "cell_type": "markdown",
   "metadata": {
    "slideshow": {
     "slide_type": "slide"
    }
   },
   "source": [
    "## Data Analysis and visualization\n",
    "\n",
    "Head over to  \n",
    "`./02_Intro_to_Data_Analysis.ipynb`  \n",
    "[Open locally](./02_Intro_to_Data_Analysis.ipynb)  \n",
    "[Open in Colab](https://colab.research.google.com/github/vrbsky/talks-classes-etc/blob/master/Data_Science_with_Python_Estacio/02_Intro_to_Data_Analysis.ipynb)  \n",
    "[Show on GitHub](https://github.com/vrbsky/talks-classes-etc/blob/master/Data_Science_with_Python_Estacio/02_Intro_to_Data_Analysis.ipynb)  \n"
   ]
  },
  {
   "cell_type": "markdown",
   "metadata": {
    "slideshow": {
     "slide_type": "slide"
    }
   },
   "source": [
    "## Machine Learning workflow\n",
    "\n",
    "<img src='./img/ML_flow1.png'>"
   ]
  },
  {
   "cell_type": "markdown",
   "metadata": {
    "slideshow": {
     "slide_type": "slide"
    }
   },
   "source": [
    "## Machine Learning workflow\n",
    "\n",
    "<img src='./img/ML_flow2.png'>"
   ]
  },
  {
   "cell_type": "markdown",
   "metadata": {
    "slideshow": {
     "slide_type": "slide"
    }
   },
   "source": [
    "## Classification Metrics\n",
    "\n",
    "- Accuracy  \n",
    "% - correct on all predictions:\n",
    "$$\\frac{TP+TN}{N}$$\n",
    "\n",
    "- Precision  \n",
    "% - classified as positives that are correct:\n",
    "$$\\frac{TP}{TP+FP}$$\n",
    "\n",
    "- Recall  \n",
    "% - correct on actual positive class:\n",
    "$$\\frac{TP}{TP+FN}$$\n",
    "\n",
    "- F1 score  \n",
    "$$F_1 = 2 * \\frac{Precision * Recall}{Precision + Recall}$$"
   ]
  },
  {
   "cell_type": "markdown",
   "metadata": {
    "slideshow": {
     "slide_type": "slide"
    }
   },
   "source": [
    "## Regression Metrics\n",
    "\n",
    "Note: Compare error metric to the average value of the label\n",
    "\n",
    "\n",
    "- Mean Absolute Error\n",
    "$$\\mathrm{MAE} = \\frac{1}{n}\\sum_{i=1}^{n}\\lvert y_{i} - \\hat{y}_{i} \\rvert$$\n",
    "\n",
    "- Mean Squared Error\n",
    "$$\\mathrm{MSE} = \\frac{1}{n}\\sum_{i=1}^{n}(y_{i} - \\hat{y}_{i})^{2}$$\n",
    "\n",
    "- Root Mean Squared Error\n",
    "$$\\mathrm{RMSE} = \\sqrt{\\frac{1}{n}\\sum_{i=1}^{n}(y_{i} - \\hat{y}_{i})^{2}}$$\n"
   ]
  },
  {
   "cell_type": "markdown",
   "metadata": {
    "slideshow": {
     "slide_type": "slide"
    }
   },
   "source": [
    "## Regression Metrics cont.\n",
    "- R2 score (Coeffictient of determination)\n",
    "$$\n",
    "\\mathrm{R}^2 \n",
    "= 1 - \\frac{\\mathrm{SSE}}{\\mathrm{SSM}}\n",
    "= 1 - \\frac{\\sum_{i}(y_{i} - \\hat{y}_{i})^{2}}{\\sum_{i}{(y_{i}-\\bar{y})^2}}\n",
    "= 1 - \\frac{n \\times \\mathrm{MSE}}{\\sum_{i}{(y_{i}-\\bar{y})^2}}\n",
    "$$\n",
    "\n",
    "<center>\n",
    "<img src='https://upload.wikimedia.org/wikipedia/commons/thumb/8/86/Coefficient_of_Determination.svg/400px-Coefficient_of_Determination.svg.png'>\n",
    "SSM - sum of squares to mean (left) and SSE - sum of squared errors (right).\n",
    "<br/>\n",
    "Image source: <a href='https://en.wikipedia.org/wiki/Coefficient_of_determination'>wikipedia<a/>\n",
    "<center/>\n"
   ]
  },
  {
   "cell_type": "markdown",
   "metadata": {
    "slideshow": {
     "slide_type": "slide"
    }
   },
   "source": [
    "## Machine Learning with scikit-learn\n",
    "\n",
    "Head over to  \n",
    "`./03_Intro_to_Machine_Learning_with_scikit_learn.ipynb`  \n",
    "[Open locally](./03_Intro_to_Machine_Learning_with_scikit_learn.ipynb)  \n",
    "[Open in Colab](https://colab.research.google.com/github/vrbsky/talks-classes-etc/blob/master/Data_Science_with_Python_Estacio/03_Intro_to_Machine_Learning_with_scikit_learn.ipynb)  \n",
    "[Show on GitHub](https://github.com/vrbsky/talks-classes-etc/blob/master/Data_Science_with_Python_Estacio/03_Intro_to_Machine_Learning_with_scikit_learn.ipynb)"
   ]
  },
  {
   "cell_type": "markdown",
   "metadata": {
    "slideshow": {
     "slide_type": "slide"
    }
   },
   "source": [
    "### Referrences\n",
    "\n",
    "- [Python docs](https://docs.python.org/3/)\n",
    "- [Pandas docs](https://pandas.pydata.org/docs/)\n",
    "- [Google Colab](https://colab.research.google.com/notebooks/intro.ipynb)\n",
    "- [References by Google Colab](https://colab.research.google.com/notebooks/intro.ipynb) inside notebook\n",
    "- [VS Code - Data Science tools](https://code.visualstudio.com/docs/python/data-science-tutorial)\n",
    "- [Databricks Community Edition](https://community.cloud.databricks.com/login.html)\n",
    "- [UCI datasets](https://archive.ics.uci.edu/ml/datasets.php)\n",
    "- Neural Networks Frameworks\n",
    "  - [Tensorflow](https://www.tensorflow.org/)\n",
    "  - [PyTorch](https://pytorch.org/)\n",
    "- [Spark](https://spark.apache.org/) (Big Data execution engine)\n",
    "- Visualization libs\n",
    "  - [Pandas](https://pandas.pydata.org/pandas-docs/stable/user_guide/visualization.html)\n",
    "  - [Matplotlib](https://matplotlib.org/gallery/index.html)\n",
    "  - [seaborn](https://seaborn.pydata.org/examples/index.html)\n",
    "  - [plotly](https://plotly.com/python/)\n",
    "  - [HoloViews](http://holoviews.org/)\n",
    "\n",
    "\n",
    "### Tips\n",
    "- On windows, you can use Python from Windows Store, [anaconda](https://www.anaconda.com/products/individual), or directly from [python.org](https://www.python.org/downloads/windows/).\n",
    "- To manage packages, use virtual environments in python or anaconda (`venv`, `virtualenv`).\n",
    "- Join [SQL Norte](https://instagram.com/sqlnorte?igshid=1phf1zizjz9ec) community (data-oriented events)\n",
    "- Practice on [kaggle](https://www.kaggle.com/)\n",
    "\n",
    "```python\n",
    "# show all outputs\n",
    "from IPython.core.interactiveshell import InteractiveShell\n",
    "InteractiveShell.ast_node_interactivity = \"all\"\n",
    "\n",
    "# show numbers without scientific notation (123e9)\n",
    "pd.set_option('display.float_format', lambda x: format(x, ',.2f'))\n",
    "```"
   ]
  },
  {
   "cell_type": "markdown",
   "metadata": {
    "slideshow": {
     "slide_type": "slide"
    }
   },
   "source": [
    "## Best Practices\n",
    "- Know the business\n",
    "- Explain the finance (or UX) impact\n",
    "- Effective communication\n",
    "- Good Probability & Statistics\n",
    "- Use even SQL, Excel\n",
    "- Understand the algorithms\n",
    "- Be honest: *All models are wrong, but some are useful.*\n",
    "- Practice"
   ]
  },
  {
   "cell_type": "markdown",
   "metadata": {
    "slideshow": {
     "slide_type": "slide"
    }
   },
   "source": [
    "## Systems' Best Practices\n",
    "- Simplify access to data\n",
    "- Fix source of data quality issues\n",
    "- Set standards to strengthen the analytical workflow\n",
    "- Document the processes\n",
    "- Share metadata across the organization. Have a business glossary, data dictionaries, data catalog, data governance\n",
    "  - Standardizes, provides data lineage, helps deploy models, provides repeatability, transparent data"
   ]
  },
  {
   "cell_type": "code",
   "execution_count": 1,
   "metadata": {
    "scrolled": false,
    "slideshow": {
     "slide_type": "skip"
    }
   },
   "outputs": [
    {
     "name": "stdout",
     "output_type": "stream",
     "text": [
      "[NbConvertApp] Converting notebook 00_Class_slides.ipynb to slides\n",
      "[NbConvertApp] Writing 290771 bytes to 00_Class_slides.slides.html\n",
      "[NbConvertApp] Redirecting reveal.js requests to https://cdnjs.cloudflare.com/ajax/libs/reveal.js/3.5.0\n",
      "Serving your slides at http://127.0.0.1:8000/00_Class_slides.slides.html\n",
      "Use Control-C to stop this server\n",
      "WARNING:tornado.access:404 GET /custom.css (127.0.0.1) 1.48ms\n",
      "WARNING:tornado.access:404 GET /custom.css (127.0.0.1) 1.24ms\n",
      "^C\n",
      "\n",
      "Interrupted\n"
     ]
    }
   ],
   "source": [
    "!jupyter nbconvert 00_Class_slides.ipynb --to slides --post serve"
   ]
  },
  {
   "cell_type": "code",
   "execution_count": null,
   "metadata": {
    "slideshow": {
     "slide_type": "skip"
    }
   },
   "outputs": [],
   "source": []
  }
 ],
 "metadata": {
  "celltoolbar": "Slideshow",
  "kernelspec": {
   "display_name": "Python 3",
   "language": "python",
   "name": "python3"
  },
  "language_info": {
   "codemirror_mode": {
    "name": "ipython",
    "version": 3
   },
   "file_extension": ".py",
   "mimetype": "text/x-python",
   "name": "python",
   "nbconvert_exporter": "python",
   "pygments_lexer": "ipython3",
   "version": "3.7.2"
  }
 },
 "nbformat": 4,
 "nbformat_minor": 2
}

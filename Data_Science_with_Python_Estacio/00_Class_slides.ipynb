{
 "cells": [
  {
   "cell_type": "markdown",
   "metadata": {},
   "source": [
    "# Data Science with Python\n",
    "## Ciência de dados com Python\n",
    "\n",
    "\n",
    "[Open in Colab](https://colab.research.google.com/github/vrbsky/talks-classes-etc/blob/master/Data_Science_with_Python_Estacio/00_Class_slides.ipynb)"
   ]
  },
  {
   "cell_type": "markdown",
   "metadata": {},
   "source": [
    "## Agenda\n",
    "\n",
    "- Motivation\n",
    "- IDE\n",
    "- Data Analysis and visualization\n",
    "- Machine Learning with scikit-learn\n",
    "- References & Tips"
   ]
  },
  {
   "cell_type": "markdown",
   "metadata": {},
   "source": [
    "## Motivation\n"
   ]
  },
  {
   "cell_type": "markdown",
   "metadata": {},
   "source": [
    "## IDE - Intro to Jupyter, Notebooks, Markdown\n",
    "\n",
    "Open, read & interact with  \n",
    "`./01_Intro_to_Jupyter_and_Markdown.ipynb`  \n",
    "[Open in Colab](https://colab.research.google.com/github/vrbsky/talks-classes-etc/blob/master/Data_Science_with_Python_Estacio/01_Intro_to_Jupyter_and_Markdown.ipynb)  \n",
    "[Show on GitHub](https://github.com/vrbsky/talks-classes-etc/blob/master/Data_analysis_with_Python_Estacio/01_Intro_to_Jupyter_and_Markdown.ipynb)"
   ]
  },
  {
   "cell_type": "markdown",
   "metadata": {},
   "source": [
    "## Data Analysis and visualization\n",
    "\n",
    "Head over to  \n",
    "`./02_Intro_to_Data_Analysis.ipynb`  \n",
    "[Open in Colab](https://colab.research.google.com/github/vrbsky/talks-classes-etc/blob/master/Data_Science_with_Python_Estacio/02_Intro_to_Data_Analysis.ipynb)  \n",
    "[Show on GitHub](https://github.com/vrbsky/talks-classes-etc/blob/master/Data_analysis_with_Python_Estacio/02_Intro_to_Data_Analysis.ipynb)"
   ]
  },
  {
   "cell_type": "markdown",
   "metadata": {},
   "source": [
    "## Machine Learning with scikit-learn\n",
    "\n",
    "Head over to  \n",
    "`./03_Intro_to_Machine_Learning_with_scikit_learn.ipynb`  \n",
    "[Open in Colab](https://colab.research.google.com/github/vrbsky/talks-classes-etc/blob/master/Data_Science_with_Python_Estacio/03_Intro_to_Machine_Learning_with_scikit_learn.ipynb)  \n",
    "[Show on GitHub](https://github.com/vrbsky/talks-classes-etc/blob/master/Data_analysis_with_Python_Estacio/03_Intro_to_Machine_Learning_with_scikit_learn.ipynb)"
   ]
  },
  {
   "cell_type": "markdown",
   "metadata": {},
   "source": [
    "## Referrences & Tips\n",
    "\n",
    "- [Python docs](https://docs.python.org/3/)\n",
    "- [Pandas docs](https://pandas.pydata.org/docs/)\n",
    "- [Google Colab](https://colab.research.google.com/notebooks/intro.ipynb)\n",
    "- [VS Code - Data Science tools](https://code.visualstudio.com/docs/python/data-science-tutorial)\n",
    "- [Databricks Community Edition](https://community.cloud.databricks.com/login.html)\n",
    "- On windows, you can use Python from Windows Store, [anaconda](https://www.anaconda.com/products/individual), or directly from [python.org](https://www.python.org/downloads/windows/).\n",
    "- To manage packages, use virtual environments in python or anaconda (`venv`, `virtualenv`).\n",
    "- Visualization libs\n",
    "  - [Pandas](https://pandas.pydata.org/pandas-docs/stable/user_guide/visualization.html)\n",
    "  - [Matplotlib](https://matplotlib.org/gallery/index.html)\n",
    "  - [seaborn](https://seaborn.pydata.org/examples/index.html)\n",
    "  - [plotly](https://plotly.com/python/)\n",
    "  - [HoloViews](http://holoviews.org/)"
   ]
  },
  {
   "cell_type": "code",
   "execution_count": null,
   "metadata": {},
   "outputs": [],
   "source": []
  }
 ],
 "metadata": {
  "kernelspec": {
   "display_name": "Python 3",
   "language": "python",
   "name": "python3"
  },
  "language_info": {
   "codemirror_mode": {
    "name": "ipython",
    "version": 3
   },
   "file_extension": ".py",
   "mimetype": "text/x-python",
   "name": "python",
   "nbconvert_exporter": "python",
   "pygments_lexer": "ipython3",
   "version": "3.7.2"
  }
 },
 "nbformat": 4,
 "nbformat_minor": 2
}
